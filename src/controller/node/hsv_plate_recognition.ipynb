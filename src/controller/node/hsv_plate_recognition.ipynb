{
 "cells": [
  {
   "cell_type": "code",
   "execution_count": 1,
   "metadata": {},
   "outputs": [],
   "source": [
    "import numpy as np\n",
    "import cv2 as cv\n",
    "import time\n",
    "import os\n",
    "import copy"
   ]
  },
  {
   "cell_type": "code",
   "execution_count": 2,
   "metadata": {},
   "outputs": [
    {
     "name": "stdout",
     "output_type": "stream",
     "text": [
      "Trackbar value: 125\n",
      "Trackbar value: 255\n",
      "Trackbar value: 255\n",
      "Trackbar value: 118\n",
      "Trackbar value: 40\n",
      "Trackbar value: 40\n"
     ]
    }
   ],
   "source": [
    "path = '/home/fizzer/ros_ws/src/controller/node/'\n",
    "img_folder = \"pictures\"\n",
    "img_name = \"left_no_see.png\"\n",
    "full_path = os.path.join(path, img_folder, img_name)\n",
    "\n",
    "img = cv.imread(full_path,cv.IMREAD_COLOR)\n",
    "hsv = cv.cvtColor(img, cv.COLOR_BGR2HSV)\n",
    "\n",
    "# isolates blue\n",
    "uh = 125\n",
    "us = 255\n",
    "uv = 255\n",
    "lh = 118\n",
    "ls = 40\n",
    "lv = 40\n",
    "\n",
    "lower_hsv = np.array([lh,ls,lv])\n",
    "upper_hsv = np.array([uh,us,uv])\n",
    "\n",
    "window_name = \"HSV Calibrator\"\n",
    "cv.namedWindow(window_name)\n",
    "\n",
    "def nothing(x):\n",
    "    print(\"Trackbar value: \" + str(x))\n",
    "    pass\n",
    "\n",
    "# create trackbars for Upper HSV\n",
    "cv.createTrackbar('UpperH',window_name,0,255,nothing)\n",
    "cv.setTrackbarPos('UpperH',window_name, uh)\n",
    "\n",
    "cv.createTrackbar('UpperS',window_name,0,255,nothing)\n",
    "cv.setTrackbarPos('UpperS',window_name, us)\n",
    "\n",
    "cv.createTrackbar('UpperV',window_name,0,255,nothing)\n",
    "cv.setTrackbarPos('UpperV',window_name, uv)\n",
    "\n",
    "# create trackbars for Lower HSV\n",
    "cv.createTrackbar('LowerH',window_name,0,255,nothing)\n",
    "cv.setTrackbarPos('LowerH',window_name, lh)\n",
    "\n",
    "cv.createTrackbar('LowerS',window_name,0,255,nothing)\n",
    "cv.setTrackbarPos('LowerS',window_name, ls)\n",
    "\n",
    "cv.createTrackbar('LowerV',window_name,0,255,nothing)\n",
    "cv.setTrackbarPos('LowerV',window_name, lv)\n",
    "\n",
    "font = cv.FONT_HERSHEY_SIMPLEX\n",
    "\n",
    "while(1):\n",
    "    # mask blue\n",
    "    cv.imshow(\"image\",img)\n",
    "    mask = cv.inRange(hsv, lower_hsv, upper_hsv)\n",
    "    # inverted_mask = cv.bitwise_not(mask)\n",
    "    edged = cv.Canny(mask,75,200)\n",
    "    cv.imshow(\"dilated edges\", edged)\n",
    "    \n",
    "    # cv.putText(mask,'Lower HSV: [' + str(lh) +',' + str(ls) + ',' + str(lv) + ']', (10,30), font, 0.5, (200,255,155), 1, cv.LINE_AA)\n",
    "    # cv.putText(mask,'Upper HSV: [' + str(uh) +',' + str(us) + ',' + str(uv) + ']', (10,60), font, 0.5, (200,255,155), 1, cv.LINE_AA)\n",
    "\n",
    "    cv.imshow(window_name,mask)\n",
    "\n",
    "    k = cv.waitKey(1) & 0xFF\n",
    "    if k == 27:\n",
    "        break\n",
    "    # get current positions of Upper HSV trackbars\n",
    "    uh = cv.getTrackbarPos('UpperH',window_name)\n",
    "    us = cv.getTrackbarPos('UpperS',window_name)\n",
    "    uv = cv.getTrackbarPos('UpperV',window_name)\n",
    "    upper_blue = np.array([uh,us,uv])\n",
    "    # get current positions of Lower HSCV trackbars\n",
    "    lh = cv.getTrackbarPos('LowerH',window_name)\n",
    "    ls = cv.getTrackbarPos('LowerS',window_name)\n",
    "    lv = cv.getTrackbarPos('LowerV',window_name)\n",
    "\n",
    "    upper_hsv = np.array([uh,us,uv])\n",
    "    lower_hsv = np.array([lh,ls,lv])\n",
    "\n",
    "    time.sleep(.1)\n",
    "\n",
    "cv.destroyAllWindows()"
   ]
  }
 ],
 "metadata": {
  "kernelspec": {
   "display_name": "Python 3.8.10 64-bit",
   "language": "python",
   "name": "python3"
  },
  "language_info": {
   "codemirror_mode": {
    "name": "ipython",
    "version": 3
   },
   "file_extension": ".py",
   "mimetype": "text/x-python",
   "name": "python",
   "nbconvert_exporter": "python",
   "pygments_lexer": "ipython3",
   "version": "3.8.10"
  },
  "orig_nbformat": 4,
  "vscode": {
   "interpreter": {
    "hash": "916dbcbb3f70747c44a77c7bcd40155683ae19c65e1c03b4aa3499c5328201f1"
   }
  }
 },
 "nbformat": 4,
 "nbformat_minor": 2
}
